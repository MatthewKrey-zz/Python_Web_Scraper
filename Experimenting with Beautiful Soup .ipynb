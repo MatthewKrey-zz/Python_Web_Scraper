{
 "cells": [
  {
   "cell_type": "code",
   "execution_count": 113,
   "metadata": {
    "collapsed": false
   },
   "outputs": [
    {
     "name": "stdout",
     "output_type": "stream",
     "text": [
      "expected string or buffer\n"
     ]
    }
   ],
   "source": [
    "from bs4 import BeautifulSoup\n",
    "import requests\n",
    "import urllib2\n",
    "from urllib2 import urlopen\n",
    "import re\n",
    "import cookielib, urllib2\n",
    "from cookielib import CookieJar\n",
    "import datetime\n",
    "\n",
    "BASE_URL = \"https://en.wikipedia.org/wiki/Cancer\"\n",
    "\n",
    "def make_soup(BASE_URL):\n",
    "    html = urlopen(BASE_URL).read()\n",
    "    return BeautifulSoup(html, \"lxml\")\n",
    "\n",
    "def get_notes_images(BASE_URL):\n",
    "    soup = make_soup(BASE_URL)\n",
    "    references = soup.findAll(\"ol\", \"references\")\n",
    "    return references\n",
    "\n",
    "def main():\n",
    "    try:\n",
    "        page = get_notes_images(BASE_URL)\n",
    "\n",
    "        try:\n",
    "            links = re.findall(r'<a.*?href=\"(.*?)\"', s, page)\n",
    "            for link in links:\n",
    "                print link \n",
    "\n",
    "        except Exception, e:\n",
    "            print str(e)\n",
    "\n",
    "    except Exception, e:\n",
    "        print str(e)\n",
    "\n",
    "main()"
   ]
  },
  {
   "cell_type": "code",
   "execution_count": null,
   "metadata": {
    "collapsed": true
   },
   "outputs": [],
   "source": []
  }
 ],
 "metadata": {
  "kernelspec": {
   "display_name": "Python 2",
   "language": "python",
   "name": "python2"
  },
  "language_info": {
   "codemirror_mode": {
    "name": "ipython",
    "version": 2
   },
   "file_extension": ".py",
   "mimetype": "text/x-python",
   "name": "python",
   "nbconvert_exporter": "python",
   "pygments_lexer": "ipython2",
   "version": "2.7.10"
  }
 },
 "nbformat": 4,
 "nbformat_minor": 0
}
