{
 "cells": [
  {
   "cell_type": "code",
   "execution_count": 81,
   "metadata": {
    "collapsed": false
   },
   "outputs": [
    {
     "name": "stdout",
     "output_type": "stream",
     "text": [
      "too many values to unpack\n"
     ]
    }
   ],
   "source": [
    "import urllib2\n",
    "from urllib2 import urlopen\n",
    "import re\n",
    "import cookielib, urllib2\n",
    "from cookielib import CookieJar\n",
    "import datetime\n",
    "import wikipedia \n",
    "from collections import Counter\n",
    "\n",
    "class WikiScrape(object):\n",
    "    def __init__(self, page_title):\n",
    "        self.content = wikipedia.page(page_title).references\n",
    "\n",
    "    def get_references(self):\n",
    "        return self.references\n",
    "\n",
    "    def get_words(self):\n",
    "        return re.findall(\"[a-zA-Z]+\", self.content)\n",
    "\n",
    "    def get_word_count(self):\n",
    "        content_word_list = self.get_words()\n",
    "        return Counter(content_word_list)\n",
    "\n",
    "print WikiScrape(\"Cancer\")"
   ]
  },
  {
   "cell_type": "code",
   "execution_count": null,
   "metadata": {
    "collapsed": true
   },
   "outputs": [],
   "source": []
  }
 ],
 "metadata": {
  "kernelspec": {
   "display_name": "Python 2",
   "language": "python",
   "name": "python2"
  },
  "language_info": {
   "codemirror_mode": {
    "name": "ipython",
    "version": 2
   },
   "file_extension": ".py",
   "mimetype": "text/x-python",
   "name": "python",
   "nbconvert_exporter": "python",
   "pygments_lexer": "ipython2",
   "version": "2.7.10"
  }
 },
 "nbformat": 4,
 "nbformat_minor": 0
}
