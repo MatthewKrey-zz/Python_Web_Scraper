{
 "cells": [
  {
   "cell_type": "code",
   "execution_count": 15,
   "metadata": {
    "collapsed": false
   },
   "outputs": [
    {
     "ename": "SyntaxError",
     "evalue": "invalid syntax (<ipython-input-15-0ae71085ab27>, line 10)",
     "output_type": "error",
     "traceback": [
      "\u001b[0;36m  File \u001b[0;32m\"<ipython-input-15-0ae71085ab27>\"\u001b[0;36m, line \u001b[0;32m10\u001b[0m\n\u001b[0;31m    opener.addheaders = [('User-agent'), 'Mozilla/5.0'] # do not visit as robot\u001b[0m\n\u001b[0m         ^\u001b[0m\n\u001b[0;31mSyntaxError\u001b[0m\u001b[0;31m:\u001b[0m invalid syntax\n"
     ]
    }
   ],
   "source": [
    "import urllib2\n",
    "from urllib2 import urlopen\n",
    "import re\n",
    "import cookielib, urllib2\n",
    "from cookielib import CookieJar\n",
    "import datetime\n",
    "\n",
    "cj = CookieJar() # in case site requires storage of cookies\n",
    "opener = urllib2.build_opener(urllib2.HTTPCookieProcessor(cj)\n",
    "opener.addheaders = [('User-agent'), 'Mozilla/5.0'] # do not visit as robot\n",
    "\n",
    "def main():\n",
    "    try:\n",
    "        page = \"https://en.wikipedia.org/wiki/Cancer\"\n",
    "        sourceCode = opener.open(page).read()\n",
    "        print sourceCode\n",
    "\n",
    "    except Exception, e:\n",
    "        print str(e)\n",
    "\n",
    "main()"
   ]
  },
  {
   "cell_type": "code",
   "execution_count": null,
   "metadata": {
    "collapsed": true
   },
   "outputs": [],
   "source": []
  }
 ],
 "metadata": {
  "kernelspec": {
   "display_name": "Python 2",
   "language": "python",
   "name": "python2"
  },
  "language_info": {
   "codemirror_mode": {
    "name": "ipython",
    "version": 2
   },
   "file_extension": ".py",
   "mimetype": "text/x-python",
   "name": "python",
   "nbconvert_exporter": "python",
   "pygments_lexer": "ipython2",
   "version": "2.7.10"
  }
 },
 "nbformat": 4,
 "nbformat_minor": 0
}
