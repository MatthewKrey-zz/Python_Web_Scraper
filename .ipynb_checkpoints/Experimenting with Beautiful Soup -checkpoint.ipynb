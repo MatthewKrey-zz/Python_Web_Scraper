{
 "cells": [
  {
   "cell_type": "code",
   "execution_count": 81,
   "metadata": {
    "collapsed": false
   },
   "outputs": [
    {
     "name": "stdout",
     "output_type": "stream",
     "text": [
      "too many values to unpack\n"
     ]
    }
   ],
   "source": [
    "import urllib2\n",
    "from urllib2 import urlopen\n",
    "import re\n",
    "import cookielib, urllib2\n",
    "from cookielib import CookieJar\n",
    "import datetime\n",
    "import wikipedia \n",
    "\n",
    "cj = CookieJar() # in case site requires storage of cookies\n",
    "opener = urllib2.build_opener(urllib2.HTTPCookieProcessor(cj))\n",
    "opener.addheaders = [('User-agent'), 'Mozilla/5.0'] # do not visit as robot\n",
    "\n",
    "references = wikipedia.references \n"
   ]
  },
  {
   "cell_type": "code",
   "execution_count": null,
   "metadata": {
    "collapsed": true
   },
   "outputs": [],
   "source": []
  }
 ],
 "metadata": {
  "kernelspec": {
   "display_name": "Python 2",
   "language": "python",
   "name": "python2"
  },
  "language_info": {
   "codemirror_mode": {
    "name": "ipython",
    "version": 2
   },
   "file_extension": ".py",
   "mimetype": "text/x-python",
   "name": "python",
   "nbconvert_exporter": "python",
   "pygments_lexer": "ipython2",
   "version": "2.7.10"
  }
 },
 "nbformat": 4,
 "nbformat_minor": 0
}
