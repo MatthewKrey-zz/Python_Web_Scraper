{
 "cells": [
  {
   "cell_type": "code",
   "execution_count": 60,
   "metadata": {
    "collapsed": false
   },
   "outputs": [
    {
     "name": "stdout",
     "output_type": "stream",
     "text": [
      "[]\n"
     ]
    }
   ],
   "source": [
    "from os import path\n",
    "from sys import stdout\n",
    "import codecs\n",
    "from bs4 import BeautifulSoup\n",
    "import requests\n",
    "\n",
    "streamWriter = codecs.lookup('utf-8')[-1]\n",
    "stdout = streamWriter(stdout)\n",
    "\n",
    "# a place to store the links we find\n",
    "links = []\n",
    "\n",
    "r = requests.get('https://en.wikipedia.org/wiki/Cancer')\n",
    "page = r.text\n",
    "soup = BeautifulSoup(page)\n",
    "soup_of_notes = soup.findAll(\"a\", {'class':'external text'})\n",
    "\n",
    "print soup_of_notes"
   ]
  },
  {
   "cell_type": "code",
   "execution_count": null,
   "metadata": {
    "collapsed": true
   },
   "outputs": [],
   "source": []
  }
 ],
 "metadata": {
  "kernelspec": {
   "display_name": "Python 2",
   "language": "python",
   "name": "python2"
  },
  "language_info": {
   "codemirror_mode": {
    "name": "ipython",
    "version": 2
   },
   "file_extension": ".py",
   "mimetype": "text/x-python",
   "name": "python",
   "nbconvert_exporter": "python",
   "pygments_lexer": "ipython2",
   "version": "2.7.10"
  }
 },
 "nbformat": 4,
 "nbformat_minor": 0
}
