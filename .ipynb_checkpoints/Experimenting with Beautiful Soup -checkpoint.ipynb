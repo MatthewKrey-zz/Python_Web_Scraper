{
 "cells": [
  {
   "cell_type": "code",
   "execution_count": 8,
   "metadata": {
    "collapsed": false
   },
   "outputs": [],
   "source": [
    "from bs4 import BeautifulSoup\n",
    "from urllib import urlopen\n",
    "#import bleach   # ipynb explodes here\n",
    "\n",
    "\n",
    "BASE_URL = \"https://en.wikipedia.org/wiki/Cancer\"\n",
    "\n",
    "def make_soup(BASE_URL):\n",
    "    html = urlopen(BASE_URL).read()\n",
    "    return BeautifulSoup(html, \"lxml\")\n",
    "\n",
    "def get_body_content(BASE_URL):\n",
    "    soup = make_soup(BASE_URL)\n",
    "    body_content = soup.find_all(\"div\", {\"id\": \"bodyContent\"}) # returns collection of HTML tag objects\n",
    "    body_content_word = {}\n",
    "    for word in body_content_words:\n",
    "        body_content_words[word.get_text()] = body_content_words\n",
    "    return body_content_words \n",
    "\n",
    "#def _bleach_html(BASE_URL)\n",
    "\n",
    "get_body_content(BASE_URL)"
   ]
  },
  {
   "cell_type": "code",
   "execution_count": null,
   "metadata": {
    "collapsed": true
   },
   "outputs": [],
   "source": []
  }
 ],
 "metadata": {
  "kernelspec": {
   "display_name": "Python 2",
   "language": "python",
   "name": "python2"
  },
  "language_info": {
   "codemirror_mode": {
    "name": "ipython",
    "version": 2
   },
   "file_extension": ".py",
   "mimetype": "text/x-python",
   "name": "python",
   "nbconvert_exporter": "python",
   "pygments_lexer": "ipython2",
   "version": "2.7.10"
  }
 },
 "nbformat": 4,
 "nbformat_minor": 0
}
