{
 "cells": [
  {
   "cell_type": "code",
   "execution_count": null,
   "metadata": {
    "collapsed": true
   },
   "outputs": [],
   "source": [
    "import urlparse\n",
    "import urllib\n",
    "from bs4 import BeautifulSoup\n",
    "\n",
    "url = \"https://en.wikipedia.org/wiki/Cancer\"\n",
    "\n",
    "urls = [url] # stack of urls to scrape\n",
    "visited = [url] # \"historic\" record of urls\n",
    "\n",
    "def make_soup(BASE_URL):\n",
    "    html = urllib.urlopen(BASE_URL).read()\n",
    "    return BeautifulSoup(html, \"lxml\")\n",
    "\n",
    "while len(urls) > 0:\n",
    "    try:\n",
    "        htmltext = urllib.urlopen(urls[0].read())\n",
    "    except:\n",
    "        print urls[0]\n",
    "    soup = make_soup(url)\n",
    "\n",
    "    urls.pop(0)\n",
    "\n",
    "    for tag in soup.findAll('a', href=True):\n",
    "        tag['href'] = urlparse.urljoin(url,tag['href'])\n",
    "        print tag['href']"
   ]
  }
 ],
 "metadata": {
  "kernelspec": {
   "display_name": "Python 2",
   "language": "python",
   "name": "python2"
  },
  "language_info": {
   "codemirror_mode": {
    "name": "ipython",
    "version": 2
   },
   "file_extension": ".py",
   "mimetype": "text/x-python",
   "name": "python",
   "nbconvert_exporter": "python",
   "pygments_lexer": "ipython2",
   "version": "2.7.10"
  }
 },
 "nbformat": 4,
 "nbformat_minor": 0
}
