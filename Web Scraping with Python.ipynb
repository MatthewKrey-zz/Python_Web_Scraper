{
 "cells": [
  {
   "cell_type": "code",
   "execution_count": 8,
   "metadata": {
    "collapsed": false
   },
   "outputs": [
    {
     "ename": "SyntaxError",
     "evalue": "invalid syntax (<ipython-input-8-58d4302b0e7c>, line 12)",
     "output_type": "error",
     "traceback": [
      "\u001b[0;36m  File \u001b[0;32m\"<ipython-input-8-58d4302b0e7c>\"\u001b[0;36m, line \u001b[0;32m12\u001b[0m\n\u001b[0;31m    return body_content = soup.find(\"div\", {\"id\": \"bodyContent\"})\u001b[0m\n\u001b[0m                        ^\u001b[0m\n\u001b[0;31mSyntaxError\u001b[0m\u001b[0;31m:\u001b[0m invalid syntax\n"
     ]
    }
   ],
   "source": [
    "from bs4 import BeautifulSoup\n",
    "from urllib import urlopen\n",
    "\n",
    "BASE_URL = \"https://en.wikipedia.org/wiki/Cancer\"\n",
    "\n",
    "def make_soup(BASE_URL):\n",
    "    html = urlopen(BASE_URL).read()\n",
    "    return BeautifulSoup(html, \"lxml\")\n",
    "\n",
    "def get_body_content(BASE_URL):\n",
    "    soup = make_soup(BASE_URL)\n",
    "    return body_content = soup.find(\"div\", {\"id\": \"bodyContent\"})\n",
    "\n",
    "get_body_content(BASE_URL)"
   ]
  },
  {
   "cell_type": "code",
   "execution_count": null,
   "metadata": {
    "collapsed": true
   },
   "outputs": [],
   "source": []
  }
 ],
 "metadata": {
  "kernelspec": {
   "display_name": "Python 2",
   "language": "python",
   "name": "python2"
  },
  "language_info": {
   "codemirror_mode": {
    "name": "ipython",
    "version": 2
   },
   "file_extension": ".py",
   "mimetype": "text/x-python",
   "name": "python",
   "nbconvert_exporter": "python",
   "pygments_lexer": "ipython2",
   "version": "2.7.10"
  }
 },
 "nbformat": 4,
 "nbformat_minor": 0
}
